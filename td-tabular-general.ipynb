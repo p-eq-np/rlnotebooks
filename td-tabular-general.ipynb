{
 "cells": [
  {
   "cell_type": "markdown",
   "metadata": {},
   "source": [
    "# General RL\n",
    "\n",
    "#### OpenAI gym environments are used"
   ]
  },
  {
   "cell_type": "code",
   "execution_count": 269,
   "metadata": {},
   "outputs": [],
   "source": [
    "#import gym\n",
    "import gym.spaces\n",
    "import numpy as np\n",
    "from collections import defaultdict\n",
    "import matplotlib.pyplot as plt\n",
    "%matplotlib inline"
   ]
  },
  {
   "cell_type": "markdown",
   "metadata": {},
   "source": [
    "## Agent "
   ]
  },
  {
   "cell_type": "code",
   "execution_count": 270,
   "metadata": {},
   "outputs": [
    {
     "ename": "SyntaxError",
     "evalue": "invalid syntax (<ipython-input-270-e78188d7eb4a>, line 35)",
     "output_type": "error",
     "traceback": [
      "\u001b[1;36m  File \u001b[1;32m\"<ipython-input-270-e78188d7eb4a>\"\u001b[1;36m, line \u001b[1;32m35\u001b[0m\n\u001b[1;33m    return self.epsilon = max(self.epsilon * self.eps_decay, self.eps_min) # e <- e_i\u001b[0m\n\u001b[1;37m                        ^\u001b[0m\n\u001b[1;31mSyntaxError\u001b[0m\u001b[1;31m:\u001b[0m invalid syntax\n"
     ]
    }
   ],
   "source": [
    "class Agent:\n",
    "\n",
    "    def __init__(self, nA=6, alpha = 0.1 , gamma = 1, eps_start = 1, eps_decay = 0.9, eps_min = 0.001, sars = 2):\n",
    "        \"\"\" Initialize agent.\n",
    "\n",
    "        Params\n",
    "        ======\n",
    "        - nA: number of actions available to the agent\n",
    "        - alpha: update rate \n",
    "        - gamma: discount rate\n",
    "        - epsilon: starting epsilon value\n",
    "        - eps_decay: epsilon decay value (linear decay)\n",
    "        - eps_min: the min epsilon\n",
    "        - sars: the update method (2: sarsamax, 3: expected sars, 4: sars, 0-1: mixture of sarsamax & expectedsars)\n",
    "        \"\"\"\n",
    "        self.nA = nA\n",
    "        self.Q = defaultdict(lambda: np.zeros(self.nA), dtype=np.float64)\n",
    "        self.alpha = alpha\n",
    "        self.gamma = gamma\n",
    "        self.epsilon = eps_start\n",
    "        self.eps_decay = eps_decay\n",
    "        self.eps_min = eps_min\n",
    "        self.sars = sars \n",
    "    \n",
    "    def update_epsilon(self): # epsilon update\n",
    "        \"\"\" Updates e-greedy(Q) beginning of each episode\n",
    "        \n",
    "        Params\n",
    "        ======\n",
    "\n",
    "        Returns\n",
    "        =======\n",
    "        - epsilon: updated epsilon value\n",
    "        \"\"\"\n",
    "        return self.epsilon = max(self.epsilon * self.eps_decay, self.eps_min) # e <- e_i\n",
    "\n",
    "\n",
    "    def select_action(self, state, epsilon): #policy\n",
    "        \"\"\" Given the state, select an action in e-greedy(Q) way\n",
    "        \n",
    "        Params\n",
    "        ======\n",
    "        - state: the current state of the environment\n",
    "        - epsilon: the epsilon of e-greedy\n",
    "\n",
    "        Returns\n",
    "        =======\n",
    "        - action: an integer, compatible with the task's action space\n",
    "        - policy_s: current policy for given state\n",
    "        \"\"\"\n",
    "        policy_s = np.ones(nA,dtype=np.float64) * (epsilon / nA)\n",
    "        best_a = np.argmax(self.Q[state])\n",
    "        policy_s[best_a] = 1 - epsilon + (epsilon / nA)\n",
    "        action = np.random.choice(np.arange(nA), p=policy_s)\n",
    "        return action, policy_s\n",
    "      \n",
    "    def step(self, state, action, reward, next_state, done, policy_s): #update step\n",
    "        \"\"\" Update the agent's knowledge-> state-value function (Q), using the most recently sampled tuple.\n",
    "            \n",
    "        Params\n",
    "        ======\n",
    "        - state: the previous state of the environment\n",
    "        - action: the agent's previous choice of action\n",
    "        - reward: last reward received\n",
    "        - next_state: the current state of the environment\n",
    "        - done: whether the episode is complete (True or False)\n",
    "        - policy_s: the current policy\n",
    "        \"\"\"\n",
    "        Q_update = 0\n",
    "        if not done: # if done next state Q value is 0\n",
    "            if self.sars == 0: # sarsamax\n",
    "                Q_update = np.max(self.Q[next_state])\n",
    "            \n",
    "            elif self.sars == 1: #expected sarsa\n",
    "                Q_update= np.dot(self.Q[next_state], policy_s) \n",
    "                \n",
    "        old_Q = self.Q[state][action]\n",
    "        self.Q[state][action] = old_Q + (self.alpha * (reward + (self.gamma * Q_update) - old_Q))        "
   ]
  },
  {
   "cell_type": "markdown",
   "metadata": {},
   "source": [
    "## Monitor"
   ]
  },
  {
   "cell_type": "code",
   "execution_count": 280,
   "metadata": {},
   "outputs": [],
   "source": [
    "from collections import deque\n",
    "import sys\n",
    "import math\n",
    "import numpy as np\n",
    "\n",
    "def interact(env, agent, num_episodes=20000, window=100):\n",
    "    \"\"\" Monitor agent's performance.\n",
    "    \n",
    "    Params\n",
    "    ======\n",
    "    - env: instance of OpenAI Gym's Taxi-v1 environment\n",
    "    - agent: instance of class Agent (see Agent.py for details)\n",
    "    - num_episodes: number of episodes of agent-environment interaction\n",
    "    - window: number of episodes to consider when calculating average rewards\n",
    "\n",
    "    Returns\n",
    "    =======\n",
    "    - avg_rewards: deque containing average rewards\n",
    "    - best_avg_reward: largest value in the avg_rewards deque\n",
    "    \"\"\"\n",
    "    # initialize average rewards\n",
    "    avg_rewards = deque(maxlen=num_episodes)\n",
    "    # initialize best average reward\n",
    "    best_avg_reward = -math.inf\n",
    "    # initialize monitor for most recent rewards\n",
    "    samp_rewards = deque(maxlen=window)\n",
    "    # for each episode\n",
    "    for i_episode in range(1, num_episodes+1):\n",
    "        \n",
    "        epsilon = agent.update_epsilon() # e = e_i\n",
    "        #agent.alpha = agent.alpha * 0.9999\n",
    "        # begin the episode\n",
    "        state = env.reset()\n",
    "        # initialize the sampled reward\n",
    "        samp_reward = 0\n",
    "        while True:\n",
    "            # agent selects an action\n",
    "            action, policy_s = agent.select_action(state, epsilon)\n",
    "            # agent performs the selected action\n",
    "            next_state, reward, done, _ = env.step(action)\n",
    "            # agent performs internal updates based on sampled experience\n",
    "            agent.step(state, action, reward, next_state, done, policy_s)\n",
    "            # update the sampled reward\n",
    "            samp_reward += reward\n",
    "            # update the state (s <- s') to next time step\n",
    "            state = next_state\n",
    "            if done:\n",
    "                # save final sampled reward\n",
    "                samp_rewards.append(samp_reward)\n",
    "                break\n",
    "        if (i_episode >= window): ## moving average\n",
    "            # get average reward from last 100 episodes\n",
    "            avg_reward = np.mean(samp_rewards)\n",
    "            # append to deque\n",
    "            avg_rewards.append(avg_reward)\n",
    "            # update best average reward\n",
    "            if avg_reward > best_avg_reward:\n",
    "                best_avg_reward = avg_reward\n",
    "                \n",
    "        #if i_episode % 1000 == 1:\n",
    "        #    print('alpha', agent.alpha)\n",
    "        #    print('epsilon', agent.epsilon)\n",
    "        \n",
    "        # monitor the progress\n",
    "        print(\"\\rEpisode {}/{} || Best average reward {}\".format(i_episode, num_episodes, best_avg_reward), end=\"\")\n",
    "        sys.stdout.flush()\n",
    "        # check if task is solved (according to OpenAI Gym)\n",
    "        if best_avg_reward >= 9.7: ## Taxi specific\n",
    "            print('\\nEnvironment solved in {} episodes.'.format(i_episode), end=\"\")\n",
    "            break\n",
    "        if i_episode == num_episodes: print('\\n')\n",
    "        # plot performance\n",
    "    plt.plot(np.linspace(0,num_episodes,len(avg_rewards),endpoint=False),np.asarray(avg_rewards))\n",
    "    plt.xlabel('Episode Number')\n",
    "    plt.ylabel('Average Reward (Over Next %d Episodes)' % window)\n",
    "    plt.show()\n",
    "    return avg_rewards, best_avg_reward"
   ]
  },
  {
   "cell_type": "markdown",
   "metadata": {},
   "source": [
    "## Main of the project "
   ]
  },
  {
   "cell_type": "code",
   "execution_count": 281,
   "metadata": {},
   "outputs": [
    {
     "name": "stdout",
     "output_type": "stream",
     "text": [
      "Episode 20000/20000 || Best average reward 9.226\n",
      "\n"
     ]
    },
    {
     "data": {
      "image/png": "[encoded data removed]",
      "text/plain": [
       "<Figure size 432x288 with 1 Axes>"
      ]
     },
     "metadata": {},
     "output_type": "display_data"
    }
   ],
   "source": [
    "\n",
    "env = gym.make('Taxi-v2')\n",
    "#env = gym.make('CliffWalking-v0')\n",
    "nA = env.action_space.n\n",
    "agent = Agent(nA=nA, alpha=0.2, gamma=1, eps_start=0.0003, eps_decay=0.9, eps_min=0.0001, sars=0) #sars<- 0: sarsamax, 1: ex[sars]\n",
    "avg_rewards, best_avg_reward = interact(env, agent)  "
   ]
  },
  {
   "cell_type": "code",
   "execution_count": null,
   "metadata": {},
   "outputs": [],
   "source": []
  },
  {
   "cell_type": "code",
   "execution_count": null,
   "metadata": {},
   "outputs": [],
   "source": []
  }
 ],
 "metadata": {
  "kernelspec": {
   "display_name": "Python 3",
   "language": "python",
   "name": "python3"
  },
  "language_info": {
   "codemirror_mode": {
    "name": "ipython",
    "version": 3
   },
   "file_extension": ".py",
   "mimetype": "text/x-python",
   "name": "python",
   "nbconvert_exporter": "python",
   "pygments_lexer": "ipython3",
   "version": "3.6.4"
  }
 },
 "nbformat": 4,
 "nbformat_minor": 2
}
